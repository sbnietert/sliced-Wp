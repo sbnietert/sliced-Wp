{
 "cells": [
  {
   "cell_type": "code",
   "execution_count": 20,
   "metadata": {},
   "outputs": [],
   "source": [
    "import numpy as np\n",
    "import matplotlib\n",
    "import matplotlib.pyplot as plt\n",
    "import os"
   ]
  },
  {
   "cell_type": "code",
   "execution_count": 43,
   "metadata": {},
   "outputs": [
    {
     "data": {
      "text/plain": [
       "(8, 6, 8, 100)"
      ]
     },
     "execution_count": 43,
     "metadata": {},
     "output_type": "execute_result"
    }
   ],
   "source": [
    "errors = np.load('/home/ubuntu/data/sliced-wp-experiments/exp2_errors_20221012-052029.npy')\n",
    "# replace with desired data file"
   ]
  },
  {
   "cell_type": "code",
   "execution_count": 44,
   "metadata": {},
   "outputs": [],
   "source": [
    "n_samples = (10,20,50,100,200,500,1000)\n",
    "simul = 100\n",
    "bootstrap_re = 20\n",
    "dims = (2,5,10,20,50,100)\n",
    "n_steps = (10,20,50,100,200,500,1000)\n",
    "important_n_samples = [1000]\n",
    "important_n_steps = [1000]"
   ]
  },
  {
   "cell_type": "code",
   "execution_count": null,
   "metadata": {},
   "outputs": [],
   "source": [
    "###### plot\n",
    "\n",
    "plots_folder = '/home/ubuntu/data/sliced-wp-plots'\n",
    "if not os.path.exists(plots_folder):\n",
    "    os.makedirs(plots_folder)\n",
    "plots_name = 'exp2'\n",
    "\n",
    "error_mean = np.mean(errors, axis = 3)\n",
    "\n",
    "## CI code\n",
    "error_bootstrap_means = [np.mean(errors[:,:,:,np.random.randint(simul, size = simul)], axis = 3) \n",
    "                    for i in range(bootstrap_re)]\n",
    "error_10 = np.percentile(error_bootstrap_means, 10, axis = 0)\n",
    "error_90 = np.percentile(error_bootstrap_means, 90, axis = 0)\n",
    "\n",
    "matplotlib.rcParams.update({'font.size': 22})\n",
    "## Sample complexity plots: Line plots of error against number of samples\n",
    "## at different dimension, sepearate plots for each m\n",
    "for i in range(len(n_steps)):\n",
    "    cmap = matplotlib.cm.get_cmap('Set1')\n",
    "\n",
    "    fig1 = plt.figure(figsize = (8,5), dpi = 80)\n",
    "    m = n_steps[i]\n",
    "    if m not in important_n_steps: continue\n",
    "\n",
    "    for j in range(len(dims)):\n",
    "        d = dims[j]\n",
    "        sw2_mean = error_mean[i, j, :-1]\n",
    "        \n",
    "        ## Code for bootstrap CI bands\n",
    "        sw2_10 = error_10[i, j, :-1]\n",
    "        sw2_90 = error_90[i, j, :-1]\n",
    "        \n",
    "        plt.loglog(n_samples, sw2_mean, label=r\"$d = {}$\".format(d), color=cmap(j), lw=1.5)\n",
    "        \n",
    "        plt.fill_between(n_samples, sw2_10, sw2_90, facecolor=cmap(j), alpha=0.2)\n",
    "        \n",
    "        \n",
    "    plt.legend(ncol=2)\n",
    "    plt.xlabel(\"# samples (n)\")\n",
    "    plt.ylabel(\"MC estimate error\")\n",
    "    plt.title(r'Sample complexity, ' + r'm = {}'.format(m), y=1.01)\n",
    "    fig1.savefig(f\"{plots_folder}/sw2_complexity_m={m}_{plots_name}.pdf\", bbox_inches='tight')\n",
    "    fig1.savefig(f\"{plots_folder}/sw2_complexity_m={m}_{plots_name}.png\", bbox_inches='tight')\n",
    "    plt.close()\n",
    "\n",
    "## Projection complexity plots: Line plots of error against number of \n",
    "## MC projections at different dimension, sepearate plots for each n\n",
    "for i in range(len(n_samples)):\n",
    "    cmap = matplotlib.cm.get_cmap('Set1')\n",
    "\n",
    "    fig1 = plt.figure(figsize = (8,5), dpi = 80)\n",
    "    n = n_samples[i]\n",
    "    if n not in important_n_samples: continue\n",
    "\n",
    "    for j in range(len(dims)):\n",
    "        d = dims[j]\n",
    "        sw2_mean = error_mean[:-1, j, i]\n",
    "        \n",
    "        ## Code for bootstrap CI bands\n",
    "        sw2_10 = error_10[:-1, j, i]\n",
    "        sw2_90 = error_90[:-1, j, i]\n",
    "        \n",
    "        plt.loglog(n_steps, sw2_mean, label=r\"$d = {}$\".format(d), color=cmap(j), lw=1.5)\n",
    "        \n",
    "        plt.fill_between(n_steps, sw2_10, sw2_90, facecolor=cmap(j), alpha=0.2)\n",
    "        \n",
    "    plt.legend(ncol=2)\n",
    "    plt.xlabel(\"# projections (m)\")\n",
    "    plt.ylabel(\"MC estimate error\")\n",
    "    plt.title(r'Projection complexity, ' + r'n = {}'.format(n), y=1.01)\n",
    "    fig1.savefig(f\"{plots_folder}/sw2_complexity_n={n}_{plots_name}.pdf\", bbox_inches='tight')\n",
    "    fig1.savefig(f\"{plots_folder}/sw2_complexity_n={n}_{plots_name}.png\", bbox_inches='tight')\n",
    "    plt.close()"
   ]
  }
 ],
 "metadata": {
  "kernelspec": {
   "display_name": "Python 3.9.7 ('swg-experiments')",
   "language": "python",
   "name": "python3"
  },
  "language_info": {
   "codemirror_mode": {
    "name": "ipython",
    "version": 3
   },
   "file_extension": ".py",
   "mimetype": "text/x-python",
   "name": "python",
   "nbconvert_exporter": "python",
   "pygments_lexer": "ipython3",
   "version": "3.9.7"
  },
  "orig_nbformat": 4,
  "vscode": {
   "interpreter": {
    "hash": "1177e70bbee53b759e556aaaf884c7709514045aa44709618ce7567abedee9c1"
   }
  }
 },
 "nbformat": 4,
 "nbformat_minor": 2
}
