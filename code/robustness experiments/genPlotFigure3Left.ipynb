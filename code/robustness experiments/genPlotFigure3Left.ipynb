{
 "cells": [
  {
   "cell_type": "code",
   "execution_count": null,
   "id": "bed693e6",
   "metadata": {},
   "outputs": [],
   "source": [
    "from scipy import io\n",
    "import numpy as np\n",
    "import ot\n",
    "from gsw.gsw import GSW\n",
    "import torch\n",
    "import matplotlib.pyplot as plt"
   ]
  },
  {
   "cell_type": "code",
   "execution_count": 2,
   "id": "7796ca29",
   "metadata": {},
   "outputs": [],
   "source": [
    "dist = GSW(ftype='linear')\n",
    "device = torch.device('cuda')\n",
    "# we approximate SW1 using subgradient ascent as implemented by Kolouri et al. 2019"
   ]
  },
  {
   "cell_type": "code",
   "execution_count": null,
   "id": "6deb8ebd",
   "metadata": {},
   "outputs": [],
   "source": [
    "its = 50\n",
    "lr = 1e-2\n",
    "\n",
    "p = 1.0\n",
    "dims = [10,20,30,40,50,60,70,80,90,100,110,120,130,140,150,160,170,180,190,200]\n",
    "mean_diff_list = {}\n",
    "MSW_list = {}\n",
    "\n",
    "for d in dims:\n",
    "    print(f'd={d}')\n",
    "    # load data from MATLAB\n",
    "    clean_data = io.loadmat('/home/ubuntu/sloan/sliced-OT-data/clean' + str(d) + '.mat')['X']\n",
    "    corrupted_data = io.loadmat('/home/ubuntu/sloan/sliced-OT-data/corrupted' + str(d) + '.mat')['X']\n",
    "    filtered_data = io.loadmat('/home/ubuntu/sloan/sliced-OT-data/filtered' + str(d) + '.mat')['filteredData']\n",
    "    \n",
    "    # match array sizes, introduces small bias controlled by empirical approximation error\n",
    "    # 1D optimal couplings can still by computed efficiently when array sizes don't match, but implementation is less clean - we omit this at the present\n",
    "    clean_data_set = set([tuple(l) for l in clean_data.tolist()])\n",
    "    clean_filter_cmp_data = np.copy(filtered_data)\n",
    "    for i in range(filtered_data.shape[0]):\n",
    "        x = filtered_data[i,:]\n",
    "        if tuple(x.tolist()) not in clean_data_set:\n",
    "            j = np.random.choice(clean_data.shape[0])\n",
    "            clean_filter_cmp_data[i,:] = clean_data[j,:]\n",
    "    clean_corrupted_cmp_data = np.copy(corrupted_data)\n",
    "    clean_corrupted_cmp_data[0:clean_data.shape[0],:] = clean_data\n",
    "    for i in range(clean_data.shape[0],corrupted_data.shape[0]):\n",
    "        j = np.random.choice(clean_data.shape[0])\n",
    "        clean_corrupted_cmp_data[i,:] = clean_data[j,:]\n",
    "    print('prepared clean data')\n",
    "\n",
    "    # convert to torch data type\n",
    "    clean_data = torch.tensor(clean_data, device=device, dtype=torch.float)\n",
    "    corrupted_data = torch.tensor(corrupted_data, device=device, dtype=torch.float)\n",
    "    filtered_data = torch.tensor(filtered_data, device=device, dtype=torch.float)\n",
    "    clean_filter_cmp_data = torch.tensor(clean_filter_cmp_data, device=device, dtype=torch.float)\n",
    "    clean_corrupted_cmp_data = torch.tensor(clean_corrupted_cmp_data, device=device, dtype=torch.float)\n",
    "\n",
    "    # estimate max-sliced distance between filtered data and clean data\n",
    "    msw_filtered = dist.max_gsw(filtered_data, clean_filter_cmp_data, iterations=its, lr=lr, p=p, rand_init=False)\n",
    "    MSW_list[(d,True)] = msw_filtered.detach().cpu()\n",
    "    print(msw_filtered)\n",
    "    # estimate max-sliced distance between corrupted data and clean data\n",
    "    sw_corrupted = dist.max_gsw(corrupted_data, clean_corrupted_cmp_data, iterations=iterations, lr=lr, p=p, rand_init=init)\n",
    "    MSW_list[(d,False)] = sw_corrupted.detach().cpu()\n",
    "    print(sw_corrupted)\n",
    "\n",
    "    mean_diff_list[(d, True)] = (filtered_data.mean(dim=0) - clean_filter_cmp_data.mean(dim=0)).norm().detach().cpu()\n",
    "    mean_diff_list[(d, False)] = (corrupted_data.mean(dim=0) - clean_corrupted_cmp_data.mean(dim=0)).norm().detach().cpu()"
   ]
  },
  {
   "cell_type": "code",
   "execution_count": null,
   "id": "ff2c4fdc",
   "metadata": {},
   "outputs": [],
   "source": [
    "plot_dims = [10,20,30,40,50,60,70,80,90,100,110,120,130,140,150,160,170,180,190,200]\n",
    "plt.plot(plot_dims, [MSW_list[(d,True)].detach().cpu() for d in plot_dims], 'g', label='$\\overline{W}_1$ error (filtered)')\n",
    "plt.plot(plot_dims, [MSW_list[(d,False)].detach().cpu() for d in plot_dims], 'g--', label='$\\overline{W}_1$ error (corrupted)')\n",
    "plt.plot(plot_dims, [mean_diff_list[(d, True)] for d in plot_dims], 'b', label='$\\ell_2$ mean error (filtered)')\n",
    "plt.plot(plot_dims, [mean_diff_list[(d, False)] for d in plot_dims], 'b--', label='$\\ell_2$ mean error (corrupted)')\n",
    "plt.legend()\n",
    "plt.xlabel('dimension')\n",
    "plt.ylabel('excess error ($\\ell_2$ distance)')\n",
    "plt.title('Robust Estimation Error: $\\overline{W}_1$ vs. Difference b/t Means')"
   ]
  }
 ],
 "metadata": {
  "interpreter": {
   "hash": "c111c98ab16bb2146b3750ff96300d2ea24b959b05391bbc2c1f7544a5d2c2ae"
  },
  "kernelspec": {
   "display_name": "Python 3.9.7 ('pytorch': conda)",
   "language": "python",
   "name": "python3"
  },
  "language_info": {
   "codemirror_mode": {
    "name": "ipython",
    "version": 3
   },
   "file_extension": ".py",
   "mimetype": "text/x-python",
   "name": "python",
   "nbconvert_exporter": "python",
   "pygments_lexer": "ipython3",
   "version": "3.9.12"
  }
 },
 "nbformat": 4,
 "nbformat_minor": 5
}
